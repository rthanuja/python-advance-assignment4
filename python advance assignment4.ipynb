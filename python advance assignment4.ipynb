{
 "cells": [
  {
   "cell_type": "code",
   "execution_count": null,
   "id": "566a3fe0",
   "metadata": {},
   "outputs": [],
   "source": [
    "#Q1. Which two operator overloading methods can you use in your classes to support iteration?\n",
    "\n",
    "__iter__() method is called when an iterator is required.\n",
    "__reversed__() method is called if present to iterate objects in reversed order\n",
    "they can be accessed using next() function"
   ]
  },
  {
   "cell_type": "code",
   "execution_count": null,
   "id": "24ee36be",
   "metadata": {},
   "outputs": [],
   "source": [
    "#Q2. In what contexts do the two operator overloading methods manage printing?\n",
    "\n",
    "__str__ and __repr__ methods are the two operator overloading methods that manage printing.\n",
    "The __str__() method returns a human-readable or informal string representation of an object. If you don’t define\n",
    "a __str__() method for a class, then the built-in object implementation calls the __repr__() method instead.\n",
    "The __repr__() method returns a more information-rich  or official string representation of an object. \n",
    "If possible, the string returned should be a valid Python expression that can be used to recreate the object. \n",
    "In all cases, the string should be informative and unambiguous.\n",
    "In general, the __str__() string is intended for users and the __repr__() string is intended for developers."
   ]
  },
  {
   "cell_type": "code",
   "execution_count": null,
   "id": "38a0f347",
   "metadata": {},
   "outputs": [],
   "source": [
    "#Q3. In a class, how do you intercept slice operations?\n",
    "\n",
    "slice constructor in __getitem__ method is used to for slice operations.\n",
    "__getitem__ method is used for accessing list items, array elements, dictionary entries etc.slice is a\n",
    "constructor in Python that creates slice object to represent set of indices that the range(start, stop, step) specifies. \n",
    "syntax:\n",
    "\n",
    "__getitem__(slice(start, stop, step))\n",
    "start-starting index\n",
    "stop -ending index"
   ]
  },
  {
   "cell_type": "code",
   "execution_count": null,
   "id": "c0ebf85e",
   "metadata": {},
   "outputs": [],
   "source": [
    "#Q4. In a class, how do you capture in-place addition?\n",
    "\n",
    "To capture in-place addition __iadd__() method is used in class that takes 2 arguments and updates the first argument with\n",
    "the result of the addition."
   ]
  },
  {
   "cell_type": "code",
   "execution_count": null,
   "id": "dcb48d4c",
   "metadata": {},
   "outputs": [],
   "source": [
    "#Q5. When is it appropriate to use operator overloading?\n",
    "\n",
    "Operator overloading is used when we want to use an operator to have different meaning other than its normal operation\n",
    "according to the context required in user defined function."
   ]
  }
 ],
 "metadata": {
  "kernelspec": {
   "display_name": "Python 3 (ipykernel)",
   "language": "python",
   "name": "python3"
  },
  "language_info": {
   "codemirror_mode": {
    "name": "ipython",
    "version": 3
   },
   "file_extension": ".py",
   "mimetype": "text/x-python",
   "name": "python",
   "nbconvert_exporter": "python",
   "pygments_lexer": "ipython3",
   "version": "3.10.9"
  }
 },
 "nbformat": 4,
 "nbformat_minor": 5
}
